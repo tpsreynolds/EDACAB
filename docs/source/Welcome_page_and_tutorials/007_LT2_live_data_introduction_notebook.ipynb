{
 "cells": [
  {
   "cell_type": "markdown",
   "id": "56b31666-8c07-49f6-94dd-d2f54745b470",
   "metadata": {},
   "source": [
    "# LT2 Footbridge real-time acceleration data\n",
    "\n",
    "This notebook provides information about the real-time acceleration datasets streamed from the LT2 footbridge at the University of Edinburgh. This data is used in the [LT2 Smart Bridge](https://smarterbridge.herokuapp.com/). The LT2 footbridge has been permanently instrumented with 12 accelerometers which allow the dynamic behaviour of the structure to be collected, processed and displayed in real-time. This notebook introduces the smart sensor network and describes how to access the live stream data from the bridge."
   ]
  },
  {
   "cell_type": "markdown",
   "id": "fafd5577-408f-4d3a-8b97-861b7c136901",
   "metadata": {},
   "source": [
    "## Description of structure\n",
    "\n",
    "## Sensor network\n",
    "\n",
    "## Data collection\n",
    "\n",
    "## Accessing the data\n",
    "\n",
    "### Connecting to the livestream data\n",
    "\n",
    "### Exploring the livestream data\n",
    "\n",
    "### Plotting the livestream data\n"
   ]
  }
 ],
 "metadata": {
  "kernelspec": {
   "display_name": "Python 3 (ipykernel)",
   "language": "python",
   "name": "python3"
  },
  "language_info": {
   "codemirror_mode": {
    "name": "ipython",
    "version": 3
   },
   "file_extension": ".py",
   "mimetype": "text/x-python",
   "name": "python",
   "nbconvert_exporter": "python",
   "pygments_lexer": "ipython3",
   "version": "3.8.13"
  }
 },
 "nbformat": 4,
 "nbformat_minor": 5
}
