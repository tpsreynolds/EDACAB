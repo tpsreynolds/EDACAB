{
 "cells": [
  {
   "cell_type": "markdown",
   "id": "89650bd8-eba5-4c3c-8455-26229f65cead",
   "metadata": {
    "tags": []
   },
   "source": [
    "# Getting started with Noteable and Jupyter Notebooks\n",
    "To facilitate research transparency and promote research collaboration, the EDACAB 2023 conference allows the submission of Jupyter Notebooks via Noteable.\n",
    "\n",
    "## What is Noteable?\n",
    "\n",
    "<div><center>\n",
    "<img src=\"_static/Noteable_logo.svg\" width=\"45%\"/>\n",
    "</center></div>\n",
    "\n",
    "\n",
    "\n",
    "[Noteable](https://noteable.edina.ac.uk/) is a cloud-based computational notebook service developed by EDINA at the University of Edinburgh. \n",
    "\n",
    "Noteable provides an online hub for hosting Jupyter Notebooks and allows users to code directly in their browser in a selected range of coding languages. Noteable makes it easy to create and share your research methods through combining the readability of traditional written documents with the interactivy of dynamic coding notebooks.\n",
    "\n",
    "### Accessing and using Noteable to produce Jupyter Notebooks\n",
    "\n",
    "Access to Noteable is provided via [Learn](learn.ed.ac.uk), the University of Edinburgh's virtual learning environment.\n",
    "\n",
    "**Step 1. Request access to Noteable** \n",
    "\n",
    "To access the EDACAB Noteable service you first have to request access from [Dr Zach Wynne](z.wynne@sms.ed.ac.uk).\n",
    "\n",
    "**Step 2. Login to Learn**\n",
    "\n",
    "Once you have recieved your login details proceed to [learn.ed.ac.uk](learn.ed.ac.uk).\n",
    "\n",
    "You will be greated with a screen similiar to the one shown in the image below. \n",
    "\n",
    "**Step 3. Access Noteable**\n",
    "\n",
    "From here navigate to the EDACAB course. On the left hand side select XXX to access the Noteable environment.\n",
    "\n",
    "**Step 4. Accessing EDACAB templates**\n",
    "\n",
    "Now select the folder named *EDACAB Templates*. This folder contains copies of the Jupyter Notebook templates described in detail [here](https://edacab.readthedocs.io/en/latest/Welcome_page_and_tutorials/004_Templates_and_examples.html).\n",
    "\n",
    "**Step 5. Creating your submission**\n",
    "You can now use the template to create your own submission for the EDACAB datathon and conference. Guidance on how to write Jupyter Notebooks is provided below.\n",
    "\n",
    "\n",
    "## Using Anaconda to produce Jupyter Notebooks\n",
    "\n",
    "Jupyter Notebooks can also be produced using the free Python/R distribution [Anaconda](https://www.anaconda.com/). \n",
    "\n",
    "### Installing Anaconda\n",
    "\n",
    "\n",
    "The Anaconda installer can be downloaded [here](https://www.anaconda.com/).\n",
    "\n",
    "**Note:** Please make sure to download Anaconda and not Miniconda.\n",
    "\n",
    "Once downloaded, launch the installer and complete the installation steps required.\n",
    "<div><center>\n",
    "<img src=\"_static/Conda_install_01.png\" width=\"65%\"/>\n",
    "</center></div>\n",
    "\n",
    "### Creating Jupyter Notebooks\n",
    "To create a new Jupyter Notebook open *Anaconda Prompt* and launch either [*Jupyer Lab*](https://blog.jupyter.org/jupyterlab-is-ready-for-users-5a6f039b8906) or [*Jupyter Notebooks*](https://jupyter.org/) by entering one of the commands shown below. "
   ]
  },
  {
   "cell_type": "code",
   "execution_count": null,
   "id": "f9fd6832-2688-4210-916f-5aa844d90135",
   "metadata": {},
   "outputs": [],
   "source": [
    "# jupyter lab\n",
    "# jupyter notebook"
   ]
  },
  {
   "cell_type": "markdown",
   "id": "0ca1abfa-25e6-4eaa-a03c-adc081438931",
   "metadata": {},
   "source": [
    "Both Jupyter Lab and Jupter Notebooks allow for the creation of Jupyter Notebooks, with Jupyter Lab providing additional tools and an enhanced user experience.\n",
    "\n",
    "To change the directory where *Jupyter Lab* or *Jupyter Notebook* is launched use the *cd* (change directory) command followed by the folderpath of the target directory, as shown in the block of code below."
   ]
  },
  {
   "cell_type": "code",
   "execution_count": 1,
   "id": "dfa58364-22f1-4458-a777-35c43bfff197",
   "metadata": {},
   "outputs": [],
   "source": [
    "# cd C:\\Enter_folderpath_to_navigate_to_here"
   ]
  },
  {
   "cell_type": "markdown",
   "id": "3d629cef-c86c-470b-a7c5-f3422bb3f0b1",
   "metadata": {
    "tags": []
   },
   "source": [
    "### Sharing Jupyter Notebooks using Noteable\n",
    "\n",
    "Once you've created your Jupter Notebook it can be submitted to Noteable using the upload button highlighted in the screenshot below.\n",
    "\n",
    "\n",
    "\n",
    "Alternatively, email it to [Dr Zach Wynne](z.wynne@sms.ed.ac.uk) or share it with the EDACAB team via a file hosting site such as [GitHub](github.com) or [Gitee](gitee.com).\n",
    "\n",
    "## How to write Jupyter Notebooks"
   ]
  }
 ],
 "metadata": {
  "kernelspec": {
   "display_name": "Python 3 (ipykernel)",
   "language": "python",
   "name": "python3"
  },
  "language_info": {
   "codemirror_mode": {
    "name": "ipython",
    "version": 3
   },
   "file_extension": ".py",
   "mimetype": "text/x-python",
   "name": "python",
   "nbconvert_exporter": "python",
   "pygments_lexer": "ipython3",
   "version": "3.8.13"
  }
 },
 "nbformat": 4,
 "nbformat_minor": 5
}
