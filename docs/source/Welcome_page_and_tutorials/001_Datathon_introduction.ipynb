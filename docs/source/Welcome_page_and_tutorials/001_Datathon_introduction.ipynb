{
 "cells": [
  {
   "cell_type": "markdown",
   "id": "56b31666-8c07-49f6-94dd-d2f54745b470",
   "metadata": {},
   "source": [
    "# Collaborative datathon\n",
    "\n",
    "The EDACAB collaborative datathon is an opo to work alongside other researchers to showcase novel approaches for efficient data analysis for the condition assessment of bridges.\n",
    "\n",
    "## Datathon schedule\n",
    "The collaborative datathon is to be held between 8am and 2pm (GMT) on the XXX of XXX 2023.\n",
    "\n",
    "The schedule for the event is shown below.\n",
    "\n",
    "| Time | Speaker | Topic |\n",
    "| --- | --- | --- |\n",
    "| 8:00am | Dr Thomas Reynolds | Welcome |\n",
    "| 8:00am | Dr Zach Wynne | Getting started with Noteable and Jupyter Notebooks |\n",
    "| 8:30am | TBC | TBC |\n",
    "| 2:00pm | Dr Thomas Reynolds | Closing remarks and future collaboration opportunities |\n",
    "\n",
    "The datathon is to be hosted on Noteable, a service provided through the University of Edinburgh's Learn online platform. Noteable allows users to write Jupyter Notebooks and collaborate in real-time. An introduction to Noteable and Jupyter Notebooks, including how to access the service can be found [here](https://edacab.readthedocs.io/en/latest/Welcome_page_and_tutorials/003_Getting_started_guide.html).\n",
    "\n",
    "Dr Zach Wynne will be on hand throughout the day to help with technical problems and queries about the datasets.\n",
    "\n",
    "## Datathon sign-up\n",
    "To be added to the attendees list for the EDACAB collaborative datathon please contact Dr Wynne (University of Edinburgh), Dr Reynolds (University of Edinburgh) or Professor Yang (Chongqing University)."
   ]
  }
 ],
 "metadata": {
  "kernelspec": {
   "display_name": "Python 3 (ipykernel)",
   "language": "python",
   "name": "python3"
  },
  "language_info": {
   "codemirror_mode": {
    "name": "ipython",
    "version": 3
   },
   "file_extension": ".py",
   "mimetype": "text/x-python",
   "name": "python",
   "nbconvert_exporter": "python",
   "pygments_lexer": "ipython3",
   "version": "3.8.13"
  }
 },
 "nbformat": 4,
 "nbformat_minor": 5
}
