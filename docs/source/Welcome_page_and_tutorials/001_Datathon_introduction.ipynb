{
 "cells": [
  {
   "cell_type": "markdown",
   "id": "56b31666-8c07-49f6-94dd-d2f54745b470",
   "metadata": {},
   "source": [
    "# Collaborative datathon\n",
    "\n",
    "**Submission deadline: Friday 6<sup>th</sup> January 2023**\n",
    "\n",
    "\n",
    "The EDACAB collaborative datathon is an opportunity to work alongside other researchers to showcase novel approaches for efficient data analysis for the condition assessment of bridges and buildings.\n",
    "\n",
    "## How it works\n",
    "\n",
    "Participants are invited to submit Jupyter Notebooks showcasing novel methods of analysing, processing or communicating big data or structural monitoring data. Jupyter Notebooks combine the readability of traditional journal articles with the transparency and interactivity provided by publishing analysis code. The datathon is to be hosted on [Deepnote](www.deepnote.com). Deepnote allows users to write Jupyter Notebooks and collaborate in real-time. An introduction to Deepnote and Jupyter Notebooks, including how to access the service can be found [here](https://edacab.readthedocs.io/en/latest/Welcome_page_and_tutorials/003_Getting_started_guide.html). No prior experience with Jupyter Notebooks or DeepNote is required to take part in the datathon.\n",
    "\n",
    "We welcome submissions to the datathon in any programming language as well as submissions containing only text and images, and encourage out-of-the-box submissions which push the boundaries of conventional thinking. Participants are free to use the datasets supplied on this site, artificially generated data or any other publicly accessible datasets.\n",
    "\n",
    "## Who can take part\n",
    "\n",
    "The datathon is open to all students and staff within the University of Edinburgh and Chongqing University and we welcome group submissions. All participants will be invited to publish their work as part of the conference proceedings, with select participants from the datathon invited to present at the conference, to be held virtually on the 13th of January 2023.\n",
    "\n",
    "## Submitting datathon entries\n",
    "\n",
    "The deadline for submissions to the datathon is **Friday 6<sup>th</sup> January 2023**.\n",
    "\n",
    "To submit a Jupyter Notebook for the datathon please refer to the guidance provided [here](https://edacab.readthedocs.io/en/latest/Welcome_page_and_tutorials/003_Getting_started_guide.html#Accessing-and-using-Deepnote-to-produce-Jupyter-Notebooks). Alternatively, please email any submissions to Dr Zach Wynne (Z.Wynne@sms.ed.ac.uk).\n",
    "\n",
    "## Datathon sign-up\n",
    "\n",
    "To be added to the attendees list for the EDACAB collaborative datathon please complete the [sign-up form](https://forms.gle/N4sLqdoRf8yjWPdc6) or contact Dr Zach Wynne (University of Edinburgh), Dr Thomas Reynolds (University of Edinburgh) or Professor Yang Yang (Chongqing University)."
   ]
  }
 ],
 "metadata": {
  "kernelspec": {
   "display_name": "Python 3 (ipykernel)",
   "language": "python",
   "name": "python3"
  },
  "language_info": {
   "codemirror_mode": {
    "name": "ipython",
    "version": 3
   },
   "file_extension": ".py",
   "mimetype": "text/x-python",
   "name": "python",
   "nbconvert_exporter": "python",
   "pygments_lexer": "ipython3",
   "version": "3.8.13"
  }
 },
 "nbformat": 4,
 "nbformat_minor": 5
}
