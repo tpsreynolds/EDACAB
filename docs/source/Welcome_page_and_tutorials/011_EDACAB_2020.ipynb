{
 "cells": [
  {
   "cell_type": "markdown",
   "id": "56b31666-8c07-49f6-94dd-d2f54745b470",
   "metadata": {
    "tags": []
   },
   "source": [
    "# EDACAB 2020 Conference\n",
    "\n",
    "\n",
    "The outputs from the 2020 EDACAB conference can be accessed [here](https://blogs.ed.ac.uk/edacab/2021/01/18/list-of-presenters-for-the-mini-conference/).\n",
    "<div><center>\n",
    "<img src=\"_static/EDACAB_2021.PNG\" width=\"85%\"/>\n",
    "</center></div>\n",
    "To view the videos, you’ll need the conference password. Please contact either Dr Tom Reynolds (University of Edinburgh) or Dr Yang Yang (Chongqing University), and they can share the password with you."
   ]
  }
 ],
 "metadata": {
  "kernelspec": {
   "display_name": "Python 3 (ipykernel)",
   "language": "python",
   "name": "python3"
  },
  "language_info": {
   "codemirror_mode": {
    "name": "ipython",
    "version": 3
   },
   "file_extension": ".py",
   "mimetype": "text/x-python",
   "name": "python",
   "nbconvert_exporter": "python",
   "pygments_lexer": "ipython3",
   "version": "3.8.13"
  }
 },
 "nbformat": 4,
 "nbformat_minor": 5
}
