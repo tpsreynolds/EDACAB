{
 "cells": [
  {
   "cell_type": "markdown",
   "id": "c7a17800-dbfd-42b8-9623-d4c8bf034ce4",
   "metadata": {
    "iooxa": {
     "id": {
      "block": "dWT0NHnfgydvyfk2tmL2",
      "project": "wdSo2ygB2b8NvyKq4cuW",
      "version": 1
     }
    },
    "tags": []
   },
   "source": [
    "# Introduction and Sign-up\n",
    "\n",
    "The *Efficient Data Analysis for the Condition Assessment of Bridges and Buildings* (EDACABB) data-driven conference is a collaboration between the <a href=\"https://www.ed.ac.uk/\" target=\"_blank\">University of Edinburgh</a> and <a href=\"https://cqu.edu.cn/\" target=\"_blank\">Chongqing University</a>. Funding for the EDACABB collaboration is provide by the <a href=\"https://rse.org.uk/\" target=\"_blank\">Royal Society of Edinburgh</a>.\n",
    "\n",
    "\n",
    "<div><center>\n",
    "<img src=\"_static/UoE_rondel.png\" width=\"100\"/>\n",
    "<img src=\"_static/CU_rondel.png\" width=\"100\"/>\n",
    "<img src=\"_static/RSE.png\" width=\"100\"/>\n",
    "</center></div>\n",
    "\n",
    "\n",
    "The EDACABB data-driven conference aims to foster collaboration and transparency through a datathon and a half-day conference. \n",
    "\n",
    "## What is a data-driven conference? \n",
    "\n",
    "A data-driven conference is a new way of sharing research insights which is designed to promote collaboration, innovation and research transparency.\n",
    "\n",
    "The conference is split into two events:\n",
    "\n",
    "* **Datathon - Submission deadline: Friday 6<sup>th</sup>  January 2023** - An ongoing event where researchers work together to develop and demonstrate novel methods for processing or analysing structural monitoring data from a range of experimental and real-world datasets. \n",
    "* **Half-day conference - Friday 13<sup>th</sup> January 2023** - A chance for researchers to share their previous work and/or the outputs from the datathon. \n",
    "\n",
    "Unlike traditional academic conferences, the data-driven conference allows participants to share analysis code and raw data when presenting their research. Attendees can run the analyses in real-time, share their own insights and expertise and branch previous research for further development.\n",
    "\n",
    "## How does a data-driven conference work?\n",
    "Rather than submitting a conventional conference paper, participants are invited to submit a Jupyter Notebook. Jupyter Notebooks blend conventional images and text with blocks of code that allow readers to understand the analysis methods and how they're applied. An example of a Jupyter Notebook is shown in the image below:\n",
    "\n",
    "<div><center>\n",
    "<img src=\"_static/example-notebook.png\" width=\"90%\"/>\n",
    "</center></div>\n",
    "\n",
    "Jupyter Notebooks can include code in a variety of programming languages including Python, R, MATLAB and Julia. An introduction to Jupyter Notebooks and guidance for writing your own Python Notebook is provided [here](https://edacab.readthedocs.io/en/latest/Welcome_page_and_tutorials/003_Getting_started_guide.html). Guidance for using MATLAB in Jupyter Notebooks is provided [here](https://edacab.readthedocs.io/en/latest/Welcome_page_and_tutorials/003_Getting_started_guide_MATLAB.html). Templates for the Jupyter Notebooks for the EDACABB conference, alongside guidance on how to access the datasets described below, are provided [here](https://edacab.readthedocs.io/en/latest/Welcome_page_and_tutorials/004_Templates_and_examples.html).\n",
    "\n",
    "\n",
    "## How to get involved\n",
    "To sign up for the datathon and/or conference please email Dr Zach Wynne (Z.Wynne@sms.ed.ac.uk) or complete the [sign-up form](https://forms.gle/N4sLqdoRf8yjWPdc6).\n",
    "\n",
    "All participants will be invited to publish their work as part of the conference proceedings, with select participants from the datathon invited to present at the conference, to be held virtually on the 13<sup>th</sup> of January 2023.\n",
    "\n",
    "Both events are open to all students and staff within the University of Edinburgh and Chongqing University, are accessible for any level of programming or analysis experience, and we welcome group submissions.\n",
    "\n",
    "\n",
    "## Datasets\n",
    "\n",
    "Structural monitoring data, collected by the University of Edinburgh and Chongqing University, are provided as part of the data-driven conference. These datasets are freely accessible and include acceleration data from a scale model of a reinforced concrete structure subjected to simulated earthquake excitation and acceleration data from a box-truss footbridge subjected to footfall excitation. \n",
    "\n",
    "If you would like to host and use your own data, please refer to the [FAQs](https://edacab.readthedocs.io/en/latest/Welcome_page_and_tutorials/010_FAQS.html). Further details and guidance on accessing the data are provided in the linked descriptions of the datasets.\n",
    "\n",
    "### Shaker table experimental data\n",
    "Acceleration data from a scale model of a 12-storey reinforced concrete building subjected to simulated earthquake excitation is provided by Professor Yang at Chongqing University. These datasets include data collected from the structure during and after intensive dynamic loading via a shaking table and provide the opportunity to demonstrate experimental modal analysis techniques, blind damage detection or novel methods for processing and displaying short time periods of data.\n",
    "\n",
    "<div><center>\n",
    "<img src=\"_static/RC_structure_01.PNG\" width=\"50%\"/>\n",
    "</center></div>\n",
    "\n",
    "Further details of the experimental structure, testing regime and structural sensing can be found [here](https://edacab.readthedocs.io/en/latest/Welcome_page_and_tutorials/005_Shaker_table_data_introduction.html).\n",
    "\n",
    "### Footbridge acceleration response during applied static loading\n",
    "Acceleration data from a footbridge, located on the Kings Building campus of the University of Edinburgh, is provided by Dr Reynolds. The footbridge is subjected to footfall excitation by a single pedestrian, with data collected from the bridge when loaded with only the mass of the pedestrian and when the bridge is loaded with an additional 60kg mass. The 60kg additional mass induces changes in the dynamic behaviour of the footbridge similar to that which would occur if the stiffness of the bridge was impacted by damage. These datasets provide the opportunity to demonstrate operational modal analysis techniques and damage detection using a labelled dataset.\n",
    "\n",
    "<div><center>\n",
    "<img src=\"_static/LT2_01.JPG\" width=\"40%\"/>\n",
    "<img src=\"_static/LT2_02.JPG\" width=\"40%\"/>\n",
    "</center></div>\n",
    "\n",
    "Further details of the experimental structure, testing regime and structural sensing can be found [here](https://edacab.readthedocs.io/en/latest/Welcome_page_and_tutorials/006_LT2_static_data_introduction_notebook.html).\n",
    "\n",
    "### Live stream of footbridge acceleration data\n",
    "A livestream of acceleration data, collected from the same footbridge discussed in the previous section, is also available. This livestream data comes from a network of 12 accelerometers installed as part of the permanent monitoring network for the footbridge. The footbridge is intermittently excited by pedestrians, as well as being subjected to crowd loading at the beginning and end of lectures. Livestream data presents several unique challenges for bridge monitoring including dealing with greater uncertainties in the data, the large quantities of data which must be rapidly processed and the need to use scheduled or real-time analysis techniques.\n",
    "\n",
    "An example of real-time analysis of data from the footbridge is the [Smarter Bridge web dashboard](https://smarterbridge.herokuapp.com/), a screen shot of which is shown below.\n",
    "\n",
    "<div><center>\n",
    "<img src=\"_static/LT2_03.PNG\" width=\"75%\"/>\n",
    "</center></div>\n",
    "\n",
    "Further details on the permanent bridge monitoring network and how to connect to the livestream data is available [here](https://edacab.readthedocs.io/en/latest/Welcome_page_and_tutorials/007_LT2_live_data_introduction_notebook.html)."
   ]
  }
 ],
 "metadata": {
  "iooxa": {
   "id": {
    "block": "t2SQHqsvKErNXBcniNlC",
    "project": "wdSo2ygB2b8NvyKq4cuW",
    "version": 1
   }
  },
  "kernelspec": {
   "display_name": "Python 3 (ipykernel)",
   "language": "python",
   "name": "python3"
  },
  "language_info": {
   "codemirror_mode": {
    "name": "ipython",
    "version": 3
   },
   "file_extension": ".py",
   "mimetype": "text/x-python",
   "name": "python",
   "nbconvert_exporter": "python",
   "pygments_lexer": "ipython3",
   "version": "3.8.13"
  }
 },
 "nbformat": 4,
 "nbformat_minor": 5
}
