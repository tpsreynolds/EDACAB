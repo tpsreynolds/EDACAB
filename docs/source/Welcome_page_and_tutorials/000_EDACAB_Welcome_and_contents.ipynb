{
 "cells": [
  {
   "cell_type": "markdown",
   "id": "56b31666-8c07-49f6-94dd-d2f54745b470",
   "metadata": {},
   "source": [
    "# Welcome to the 2022 EDACAB Data-driven Conference!\n",
    "\n",
    "The *Efficient Data Analysis for the Condition Assessment of Bridges* (EDACAB) data-driven conference is a collaboration between the <a href=\"https://www.ed.ac.uk/\" target=\"_blank\">University of Edinburgh</a> and <a href=\"https://cqu.edu.cn/\" target=\"_blank\">Chongqing University</a>. Funding for the EDACAB collaboration is provide by the <a href=\"https://rse.org.uk/\" target=\"_blank\">Royal Society of Edinburgh</a>.\n",
    "\n",
    "\n",
    "<div><center>\n",
    "<img src=\"https://upload.wikimedia.org/wikipedia/en/thumb/7/7a/University_of_Edinburgh_ceremonial_roundel.svg/1200px-University_of_Edinburgh_ceremonial_roundel.svg.png\" width=\"100\"/>\n",
    "\n",
    "<img src=\"https://upload.wikimedia.org/wikipedia/en/a/af/Chongqing_University_Logo.png\" width=\"100\"/>\n",
    "    \n",
    "<img src=\"https://rse.org.uk/wp-content/uploads/2021/07/RSE-Primary-Black-Logo-square.png\" width=\"100\"/>\n",
    "</center></div>"
   ]
  },
  {
   "cell_type": "markdown",
   "id": "addb966a-655d-4717-b1c1-a1438165d121",
   "metadata": {},
   "source": [
    "## What is a data-driven conference? \n",
    "\n",
    "The data-driven conference is a new way of sharing research insights which is designed to promote collaboration, innovation and research transparency.\n",
    "\n",
    "The conference is split into two events:\n",
    "* Data analysis competition - A one day event where researchers work together to identify damage within a range of experimental and real-world data sets.\n",
    "* Half-day conference - A chance for researchers to share their work and the outputs from the data analysis competition.\n",
    "\n",
    "Unlike traditional academic conferences, the data-driven conference allows you to share analysis code and data when presenting your research. Attendees can run the analyses in real-time and share their own insights and expertise."
   ]
  },
  {
   "cell_type": "markdown",
   "id": "56056451-0a7d-4f36-a082-7bb84fb823b6",
   "metadata": {},
   "source": [
    "## How does a data-driven conference work?\n",
    "Rather than submitting a conventional conference paper attendees are invited to submit a Jupyter Notebook. Jupyter notebooks blend conventional images and text with blocks of code that allow readers to understand the analysis methods and how they're applied. An example of a Jupyter Notebook is shown in the image below:\n",
    "\n",
    "<div><center>\n",
    "<img src=\"https://arogozhnikov.github.io/images/jupyter/example-notebook.png\" width=\"75%\"/>\n",
    "</center></div>\n",
    "\n",
    "Jupyter notebooks can include code in a variety of programming languages including Python, R, MATLAB and Julia. Templates for the Jupyter notebooks for the EDACAB conference are provided in Section XXX."
   ]
  },
  {
   "cell_type": "markdown",
   "id": "80f8cc37-46fc-4bb5-9fc0-bd32756d6465",
   "metadata": {},
   "source": [
    "## Datasets\n",
    "\n",
    "### Shaker table experimental data\n",
    "\n",
    "\n",
    "### Footbridge acceleration response during applied static loading\n",
    "\n",
    "\n",
    "### Live stream of footbridge acceleration data\n",
    "\n"
   ]
  }
 ],
 "metadata": {
  "kernelspec": {
   "display_name": "Python 3 (ipykernel)",
   "language": "python",
   "name": "python3"
  },
  "language_info": {
   "codemirror_mode": {
    "name": "ipython",
    "version": 3
   },
   "file_extension": ".py",
   "mimetype": "text/x-python",
   "name": "python",
   "nbconvert_exporter": "python",
   "pygments_lexer": "ipython3",
   "version": "3.8.13"
  }
 },
 "nbformat": 4,
 "nbformat_minor": 5
}
