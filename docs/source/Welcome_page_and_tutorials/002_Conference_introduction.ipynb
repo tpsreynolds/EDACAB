{
 "cells": [
  {
   "cell_type": "markdown",
   "id": "56b31666-8c07-49f6-94dd-d2f54745b470",
   "metadata": {},
   "source": [
    "# Half-day conference\n",
    "\n",
    "The EDACAB half-day conference is an oppurunity to share the outputs from the datathon alongside presentations showcasing the latest research from the teams at Chongqing University and the University of Edinburgh.\n",
    "\n",
    "## Conference schedule\n",
    "The conference is to be held between 9am and 12pm (GMT) on the XXX of XXX 2023.\n",
    "\n",
    "The schedule for the event is shown below.\n",
    "\n",
    "| Time | Speaker | Topic |\n",
    "| --- | --- | --- |\n",
    "| 9:00am | Dr Thomas Reynolds | Welcome and key information |\n",
    "| 9:15am | TBC | TBC |\n",
    "| 9:30am | TBC | TBC |\n",
    "| 9:45am | TBC | TBC |\n",
    "| 10:00am | TBC | TBC |\n",
    "| 10:15am | TBC | TBC |\n",
    "| 10:30am | - | Coffee break |\n",
    "| 11:00am | TBC | TBC |\n",
    "| 11:15am | TBC | TBC |\n",
    "| 11:30am | TBC | TBC |\n",
    "| 11:45am | Professor Yang | Closing remarks and future collaboration opportunities |\n",
    "\n",
    "\n",
    "## Conference sign-up\n",
    "To be added to the attendees list for the EDACAB half-day conference please contact Dr Wynne (University of Edinburgh), Dr Reynolds (University of Edinburgh) or Professor Yang (Chongqing University)."
   ]
  }
 ],
 "metadata": {
  "kernelspec": {
   "display_name": "Python 3 (ipykernel)",
   "language": "python",
   "name": "python3"
  },
  "language_info": {
   "codemirror_mode": {
    "name": "ipython",
    "version": 3
   },
   "file_extension": ".py",
   "mimetype": "text/x-python",
   "name": "python",
   "nbconvert_exporter": "python",
   "pygments_lexer": "ipython3",
   "version": "3.8.13"
  }
 },
 "nbformat": 4,
 "nbformat_minor": 5
}
