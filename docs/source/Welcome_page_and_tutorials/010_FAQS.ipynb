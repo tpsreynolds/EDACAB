{
 "cells": [
  {
   "cell_type": "markdown",
   "id": "56b31666-8c07-49f6-94dd-d2f54745b470",
   "metadata": {
    "tags": []
   },
   "source": [
    "# FAQs\n",
    "\n",
    "**What is the purpose of the EDACAB conference?**\n",
    "\n",
    "The EDACAB conference is designed to bring together researchers from the University of Edinburgh and Chongqing University who have a shared interest in the analysis of structural monitoring data from civil structures such as bridges and buildings.\n",
    "\n",
    "#### How is the EDACAB conference funded?\n",
    "\n",
    "The EDACAB conference is funded by a grant from the [Royal Society of Edinburgh](https://rse.org.uk/).\n",
    "\n",
    "#### Who can take part in the datathon/conference?\n",
    "\n",
    "Both events are open to any researchers from the University of Edinburgh and Chongqing University.\n",
    "\n",
    "#### Do I need any previous experience?\n",
    "\n",
    "The event is designed to be inclusive of all abilities, research interests and backgrounds. \n",
    "\n",
    "#### Do I have to use the datasets provided with the Jupyter Notebooks?\n",
    "\n",
    "No! You are welcome to use any datasets. However, for other participants to be able to run your Jupyter Notebooks these datasets should be freely accessible through a hosting service such as [GitHub](github.com), [Gitee](gitee.com) or any other data hosting platform.\n",
    "\n",
    "#### How in depth should contributions be?\n",
    "\n",
    "Contributions can be of any length and can include any mixture of plain text, images and programming blocks.\n",
    "\n",
    "#### What contributions are welcome?\n",
    "\n",
    "All contributions which might help with the efficient data analysis of civil structures are welcome. This might be methods of processing the data, damage detection methods or simply a novel way of presenting monitoring data.\n",
    "\n",
    "#### Can I include previously published material?\n",
    "\n",
    "If you include material you have previously published elsewhere please include a reference or hyperlink to the original source.\n",
    "\n",
    "#### How will the outputs from the datathon/conference be shared?\n",
    "\n",
    "The outputs will be compiled on this website for posterity, alongside being distributed to attendees as an interactive ebook and a conventional PDF document.\n",
    "\n",
    "#### Who should I contact if I have further questions?\n",
    "\n",
    "Please contact [Dr Zach Wynne](z.wynne@sms.ed.ac.uk)."
   ]
  }
 ],
 "metadata": {
  "kernelspec": {
   "display_name": "Python 3 (ipykernel)",
   "language": "python",
   "name": "python3"
  },
  "language_info": {
   "codemirror_mode": {
    "name": "ipython",
    "version": 3
   },
   "file_extension": ".py",
   "mimetype": "text/x-python",
   "name": "python",
   "nbconvert_exporter": "python",
   "pygments_lexer": "ipython3",
   "version": "3.8.13"
  }
 },
 "nbformat": 4,
 "nbformat_minor": 5
}
