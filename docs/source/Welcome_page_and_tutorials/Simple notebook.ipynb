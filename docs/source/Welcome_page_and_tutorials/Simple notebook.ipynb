{
 "cells": [
  {
   "cell_type": "markdown",
   "id": "56b31666-8c07-49f6-94dd-d2f54745b470",
   "metadata": {},
   "source": [
    "# Simple Notebook\n",
    "\n",
    "The *Efficient Data Analysis for the Condition Assessment of Bridges* (EDACAB) data-driven conference is a collaboration between the <a href=\"https://www.ed.ac.uk/\" target=\"_blank\">University of Edinburgh</a> and <a href=\"https://cqu.edu.cn/\" target=\"_blank\">Chongqing University</a>. Funding for the EDACAB collaboration is provide by the <a href=\"https://rse.org.uk/\" target=\"_blank\">Royal Society of Edinburgh</a>.\n",
    "\n",
    "\n",
    "<div><center>\n",
    "<img src=\"https://upload.wikimedia.org/wikipedia/en/thumb/7/7a/University_of_Edinburgh_ceremonial_roundel.svg/1200px-University_of_Edinburgh_ceremonial_roundel.svg.png\" width=\"100\"/>\n",
    "\n",
    "<img src=\"https://upload.wikimedia.org/wikipedia/en/a/af/Chongqing_University_Logo.png\" width=\"100\"/>\n",
    "    \n",
    "<img src=\"https://rse.org.uk/wp-content/uploads/2021/07/RSE-Primary-Black-Logo-square.png\" width=\"100\"/>\n",
    "</center></div>\n",
    "\n"
   ]
  }
 ],
 "metadata": {
  "kernelspec": {
   "display_name": "Matlab",
   "language": "matlab",
   "name": "matlab"
  },
  "language_info": {
   "codemirror_mode": "octave",
   "file_extension": ".m",
   "help_links": [
    {
     "text": "MetaKernel Magics",
     "url": "https://metakernel.readthedocs.io/en/latest/source/README.html"
    }
   ],
   "mimetype": "text/x-octave",
   "name": "matlab",
   "version": "0.17.1"
  }
 },
 "nbformat": 4,
 "nbformat_minor": 5
}
