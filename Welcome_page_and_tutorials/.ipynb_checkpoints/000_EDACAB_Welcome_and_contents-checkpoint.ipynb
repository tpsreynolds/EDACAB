{
 "cells": [
  {
   "cell_type": "markdown",
   "id": "56b31666-8c07-49f6-94dd-d2f54745b470",
   "metadata": {},
   "source": [
    "# Welcome to the 2022 EDACAB Data-driven Conference!\n",
    "\n",
    "The *Efficient Data Analysis for the Condition Assessment of Bridges* (EDACAB) data-driven conference is a collaboration between the <a href=\"https://www.ed.ac.uk/\" target=\"_blank\">University of Edinburgh</a> and <a href=\"https://cqu.edu.cn/\" target=\"_blank\">Chongqing University</a>. Funding for the EDACAB collaboration is provide by the <a href=\"https://rse.org.uk/\" target=\"_blank\">Royal Society of Edinburgh</a>.\n",
    "\n",
    "\n",
    "This project is brought to you through collaboration between the University of Edinburgh & Chongqing University.\n",
    "\n",
    "\n",
    "<div><center>\n",
    "<img src=\"https://upload.wikimedia.org/wikipedia/en/thumb/7/7a/University_of_Edinburgh_ceremonial_roundel.svg/1200px-University_of_Edinburgh_ceremonial_roundel.svg.png\" width=\"100\"/>\n",
    "\n",
    "<img src=\"https://upload.wikimedia.org/wikipedia/en/a/af/Chongqing_University_Logo.png\" width=\"100\"/>\n",
    "    \n",
    "<img src=\"https://rse.org.uk/wp-content/uploads/2021/07/RSE-Primary-Black-Logo-square.png\" width=\"100\"/>\n",
    "</center></div>\n",
    "\n"
   ]
  },
  {
   "cell_type": "markdown",
   "id": "e3b8c038-6513-4dd9-bcd4-0147fbccc272",
   "metadata": {},
   "source": [
    "## What is a data-driven conference?\n",
    "The data-driven conference is a new way of sharing research insights which is designed to promote collaboration, innovation and research transparency.\n",
    "\n",
    "The conference is split into two events:\n",
    "* Data analysis competition - A one day event where researchers work together to identify damage within a range of experimental and real-world data sets.\n",
    "* Half-day conference - A chance for researchers to share their work and the outputs from the data analysis competition.\n",
    "\n",
    "Unlike traditional academic conferences, the data-driven conference allows you to share analysis code and data when presenting your research. Attendees can run the analyses in real-time and share their own insights and expertise.\n",
    "\n",
    "## How does it work?\n",
    "Rather than submitting a conventional conference paper attendees are invited to submit a Jupyter Notebook. Jupyter notebooks blend conventional images and text with blocks of code that allow readers to understand the analysis methods and how they're applied. An example of a Jupyter Notebook is shown in the image below:\n",
    "\n",
    "<div><center>\n",
    "<img src=\"https://arogozhnikov.github.io/images/jupyter/example-notebook.png\" width=\"75%\"/>\n",
    "</center></div>\n",
    "\n",
    "\n",
    "\n",
    "\n",
    "\n",
    "Jupyter notebooks can include code in a variety of programming languages including Python, R, MATLAB and Julia. Example notebooks are provided in Section XXX."
   ]
  }
 ],
 "metadata": {
  "kernelspec": {
   "display_name": "Matlab",
   "language": "matlab",
   "name": "matlab"
  },
  "language_info": {
   "codemirror_mode": "octave",
   "file_extension": ".m",
   "help_links": [
    {
     "text": "MetaKernel Magics",
     "url": "https://metakernel.readthedocs.io/en/latest/source/README.html"
    }
   ],
   "mimetype": "text/x-octave",
   "name": "matlab",
   "version": "0.17.1"
  }
 },
 "nbformat": 4,
 "nbformat_minor": 5
}
