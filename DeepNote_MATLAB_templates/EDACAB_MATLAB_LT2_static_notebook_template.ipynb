{
 "cells": [
  {
   "cell_type": "markdown",
   "id": "aeb1d02e-3c51-4793-87f7-29fdaadbc9fe",
   "metadata": {
    "tags": []
   },
   "source": [
    "# Title: Add title here\n",
    "*2023 datathon and conference on Efficient Data Analysis for the Condition Assessment of Bridges*\n",
    "\n",
    "**Author(s):** Add author name here\n",
    "\n",
    "**Affiliation(s):** Add author affiliation here\n",
    "\n",
    "\n",
    "\n",
    "## Abstract\n",
    "Write abstract here.\n",
    "\n",
    "## Content\n",
    "Write the main body of Notebook text below this point."
   ]
  },
  {
   "cell_type": "markdown",
   "id": "7c7e08fa-2df9-410e-bd3a-21d71092f652",
   "metadata": {},
   "source": [
    "### Headings and subheadings\n",
    "To break your document into sections use \"##\" for section headings and \"###\" for section subheadings. \n",
    "\n",
    "To write *italic* text, enclose the text in \"\\*\". \n",
    "\n",
    "To write **bold** text, enclose the text in \"\\*\\*\"."
   ]
  },
  {
   "cell_type": "markdown",
   "id": "c6c0e2d5-94f7-4ab3-becc-f4462e0182e5",
   "metadata": {},
   "source": [
    "### Bullet points and numbered lists\n",
    "\n",
    "- This is an example of a bullet point.\n",
    "- This is another example of a bullet point.\n",
    "    - This is an example of a subpoint\n",
    "\n",
    "1. This is an example of a numbered list.\n",
    "1. This continues the numbered list.\n",
    "    1. This is an example of a nested list.\n",
    "    1. This is a further subpoint."
   ]
  },
  {
   "cell_type": "markdown",
   "id": "0b748a9f-82ad-442e-8f68-4ed36ac8d6cd",
   "metadata": {},
   "source": [
    "### Including equations in Jupyter Notebooks\n",
    "Notebooks use *LaTex* text formatting. Equations can be written inline, such as $e=mc^2$, or as seperate equation blocks as shown below.\n",
    "\n",
    "\\begin{equation}\n",
    "y = Ax+C\n",
    "\\end{equation}"
   ]
  },
  {
   "cell_type": "markdown",
   "id": "f169edae-d871-4ebc-95cf-9011133507d2",
   "metadata": {},
   "source": [
    "### Including hyperlinks in Jupyter Notebooks\n",
    "We can include hyperlinks through combinations of square and rounded brackets like [this](https://blogs.ed.ac.uk/edacab/)."
   ]
  },
  {
   "cell_type": "markdown",
   "id": "76aa6b58-fe10-4202-a534-8ab08f0c5971",
   "metadata": {},
   "source": [
    "### Including tables in Jupyter Notebooks\n",
    "Tables use the notation shown below:\n",
    "\n",
    "| Column 1 | Column 2 | Column 3 |\n",
    "| --- | --- | --- |\n",
    "| Value 1 | Description 1  | A note |\n",
    "| Value 2 | Description 2  | A much longer note to demonstrate how columns expand as needed |\n",
    "| Value 3 | Description 3  | A third note.|\n",
    "| Value 4 | Description 4  | A further note |"
   ]
  },
  {
   "cell_type": "markdown",
   "id": "32b20e2e-d714-49a2-aaf5-eef282ed7e3d",
   "metadata": {},
   "source": [
    "### Including images in Jupyter Notebooks\n",
    "\n",
    "To include images we upload them to the notebook and reference them using the HTML code shown below.\n",
    "\n",
    "<div><center>\n",
    "    <img src=\"./Example_Image.JPG\" width=\"25%\"/>\n",
    "</center></div>"
   ]
  },
  {
   "cell_type": "markdown",
   "id": "ee804574-1b92-4db3-98f9-022b5bac363d",
   "metadata": {},
   "source": [
    "### Further help\n",
    "For further guidance on writing Jupter Notebooks refer to [this guide](https://jupyter-notebook.readthedocs.io/en/stable/examples/Notebook/Working%20With%20Markdown%20Cells.html) or [this summary](https://www.ibm.com/docs/en/watson-studio-local/1.2.3?topic=notebooks-markdown-jupyter-cheatsheet)."
   ]
  },
  {
   "cell_type": "markdown",
   "id": "7a621dbd-019e-476f-a947-59d9109f90b0",
   "metadata": {},
   "source": [
    "## Adding MATLAB code to Jupyter Notebooks\n",
    "To add MATLAB code to Jupyter notebooks we define a new *code block*. This block behaves like a typical MATLAB interpreter, allowing us to write functions, define variables and plot data. Two example blocks of MATLAB code are shown below. The first block of code defines a function through the special \"%%file\" cell decorator. The second block of code executes the cell."
   ]
  },
  {
   "cell_type": "code",
   "execution_count": 18,
   "id": "6a93df7b-b1ac-41de-85cf-891f85941f96",
   "metadata": {},
   "outputs": [
    {
     "name": "stdout",
     "output_type": "stream",
     "text": [
      "Created file 'C:\\Users\\S1879083\\Documents\\GitHub\\EDACAB\\Noteable_MATLAB_templates\\calculateSquaredValue.m'.\n"
     ]
    }
   ],
   "source": [
    "%%file calculateSquaredValue.m\n",
    "function ave = calculateSquaredValue(x)\n",
    "    ave = x.^2; \n",
    "end"
   ]
  },
  {
   "cell_type": "code",
   "execution_count": 32,
   "id": "08f08806-7470-49a9-869f-bc17089811ce",
   "metadata": {},
   "outputs": [
    {
     "name": "stdout",
     "output_type": "stream",
     "text": [
      "The first ten output values are:\n",
      "     1     4     9    16    25    36    49    64    81   100\n",
      "\n",
      "\n"
     ]
    }
   ],
   "source": [
    "input_data = 1:100;\n",
    "output_data = calculateSquaredValue(input_data);\n",
    "disp('The first ten output values are:')\n",
    "disp(output_data(1:10))"
   ]
  },
  {
   "cell_type": "markdown",
   "id": "df65cfba-b0ad-4422-9088-bb2bf8e3c989",
   "metadata": {},
   "source": [
    "Any variables or functions we have previously defined in carry over to future code blocks, as shown below."
   ]
  },
  {
   "cell_type": "code",
   "execution_count": 33,
   "id": "a4fa9924-65ad-4b0a-a5b8-2925e199e986",
   "metadata": {},
   "outputs": [
    {
     "name": "stdout",
     "output_type": "stream",
     "text": [
      "The first ten output values are still:\n",
      "     1     4     9    16    25    36    49    64    81   100\n",
      "\n",
      "\n"
     ]
    }
   ],
   "source": [
    "disp('The first ten output values are still:')\n",
    "disp(output_data(1:10))"
   ]
  },
  {
   "cell_type": "markdown",
   "id": "5a395a75-28a3-46e3-88a0-18722cc807c0",
   "metadata": {},
   "source": [
    "We can plot figures inline to help demonstrate relationships between variables."
   ]
  },
  {
   "cell_type": "code",
   "execution_count": 35,
   "id": "160ca4f0-e070-41b8-8e66-e8a89bf85588",
   "metadata": {},
   "outputs": [
    {
     "name": "stdout",
     "output_type": "stream",
     "text": [
      "\n"
     ]
    },
    {
     "data": {
      "image/png": "[encoded data removed]",
      "text/plain": [
       "<IPython.core.display.Image object>"
      ]
     },
     "metadata": {},
     "output_type": "display_data"
    }
   ],
   "source": [
    "scatter(input_data,output_data,'filled')\n",
    "xlabel('Input data')\n",
    "ylabel('Output data')\n",
    "legend('Example function output data')"
   ]
  },
  {
   "cell_type": "markdown",
   "id": "12565ddd-6a3d-4bcc-aaad-47039da0b92b",
   "metadata": {},
   "source": [
    "## Accessing the LT2 footbridge datasets\n",
    "\n",
    "The block of code below downloads the data for the period where the bridge was loaded by a single pedestrian. The data is hosted on GitHub and can be accessed via the URL shown below."
   ]
  },
  {
   "cell_type": "markdown",
   "id": "36d0c0d1-0607-4eaa-8095-4e6b8bcfa620",
   "metadata": {},
   "source": [
    "### Exploring the footbridge datasets\n",
    "The data is organized with each column of the dataframe being the output from an accelerometer channel. The names of the accelerometer channels are shown below. The first two values of each accelerometer channel name correspond to the accelerometer location plotted in the previous section. The last value of the accelerometer channel name is the direction of movement: Z corresponds to vertical acceleration responses, X corresponds to transverse acceleration responses."
   ]
  },
  {
   "cell_type": "markdown",
   "id": "9db20d80-f9cb-4eca-870c-66e0b3ece43d",
   "metadata": {},
   "source": [
    "### Plotting the footbridge datasets\n",
    "#### Raw data plots\n",
    "The block of code below plots the raw acceleration output for accelerometer channel A2Z. In the plotted data we can see each of the pedestrian crossings. These crossings were from a single pedestrian walking at a variety of speeds and following various crossing paths."
   ]
  },
  {
   "cell_type": "markdown",
   "id": "4784b576-f74d-4980-a573-8e6e01fec29f",
   "metadata": {},
   "source": [
    "#### Plotting Welch power spectral density\n",
    "The block of code below plots the 30-second Welch averaged power spectral density of each accelerometer channel. The dynamic behaviour of the bridge is complex, with many peaks in the frequency spectra. The data is slightly corrupted by the 50Hz electrical mains signal alongside the frequency roll-off due to filtering and downsampling of the data."
   ]
  },
  {
   "cell_type": "markdown",
   "id": "eb48ff24-c063-4c8a-9cc6-bdf423a0b907",
   "metadata": {},
   "source": [
    "### Comparing unloaded and static loaded bridge behaviour\n",
    "Also collected at the same time as data from the LT2 footbridge excited by a single pedestrian was acceleration data when there was a static load of 60kg located at various positions on the bridge. Identifying changes in dynamic behaviour of civil structures under loading is a useful excercise as these methods can be used to [identify damage to the structure](https://doi.org/10.1016/j.engstruct.2021.113745). The block of code below loads and plots the data from when the bridge was loaded with the 60kg mass."
   ]
  },
  {
   "cell_type": "markdown",
   "id": "3769ac8c-ca33-40da-a92c-eb4ffe92f073",
   "metadata": {},
   "source": [
    "During this period the 60kg mass is moved to a variety of locations along the bridge deck. The block of code below reloads the unloaded data and plots the Welch power spectral density of both datasets to show how the additional 60kg mass impacts the natural frequencies and damping ratios of the structure."
   ]
  }
 ],
 "metadata": {
  "kernelspec": {
   "display_name": "Python 3 (ipykernel)",
   "language": "python",
   "name": "python3"
  },
  "language_info": {
   "codemirror_mode": {
    "name": "ipython",
    "version": 3
   },
   "file_extension": ".py",
   "mimetype": "text/x-python",
   "name": "python",
   "nbconvert_exporter": "python",
   "pygments_lexer": "ipython3",
   "version": "3.8.13"
  }
 },
 "nbformat": 4,
 "nbformat_minor": 5
}
