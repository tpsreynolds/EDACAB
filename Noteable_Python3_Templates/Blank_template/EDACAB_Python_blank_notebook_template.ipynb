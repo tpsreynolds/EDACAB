{
 "cells": [
  {
   "cell_type": "markdown",
   "id": "56b31666-8c07-49f6-94dd-d2f54745b470",
   "metadata": {},
   "source": [
    "# Title:\n",
    "*2023 datathon and conference on Efficient Data Analysis for the Condition Assessment of Bridges*\n",
    "\n",
    "**Author(s):**\n",
    "\n",
    "**Affiliation(s):**\n",
    "\n",
    "\n",
    "\n",
    "## Abstract\n",
    "Write abstract here.\n",
    "\n",
    "## Content\n",
    "Write the main body of Notebook text below this point.\n",
    "\n",
    "### Headings and subheadings\n",
    "To break your document into sections use \"##\" for section headings and \"###\" for section subheadings. \n",
    "\n",
    "To write *italic* text, enclose the text in \"\\*\". \n",
    "\n",
    "To write **bold** text, enclose the text in \"\\*\\*\".\n",
    "\n",
    "### Bullet points and numbered lists\n",
    "\n",
    "- This is an example of a bullet point.\n",
    "- This is another example of a bullet point.\n",
    "    - This is an example of a subpoint\n",
    "\n",
    "1. This is an example of a numbered list.\n",
    "1. This continues the numbered list.\n",
    "    1. This is an example of a nested list.\n",
    "    1. This is a further subpoint.\n",
    "\n",
    "### Including equations in Jupyter Notebooks\n",
    "Notebooks use *LaTex* text formatting. Equations can be written inline, such as $e=mc^2$, or as seperate equation blocks as shown below.\n",
    "\n",
    "\\begin{equation}\n",
    "y = Ax+C\n",
    "\\end{equation}\n",
    "\n",
    "### Including hyperlinks in Jupyter Notebooks\n",
    "We can include hyperlinks through combinations of square and rounded brackets like [this](https://blogs.ed.ac.uk/edacab/).\n",
    "\n",
    "\n",
    "### Including tables in Jupyter Notebooks\n",
    "Tables use the notation shown below:\n",
    "\n",
    "| Column 1 | Column 2 | Column 3 |\n",
    "| --- | --- | --- |\n",
    "| Value 1 | Description 1  | A note |\n",
    "| Value 2 | Description 2  | A much longer note to demonstrate how columns expand as needed |\n",
    "| Value 3 | Description 3  | A third note.|\n",
    "| Value 4 | Description 4  | A further note |\n",
    "\n",
    "### Including images in Jupyter Notebooks\n",
    "\n",
    "To include images we upload them to the notebook and reference them using the HTML code shown below.\n",
    "\n",
    "<div><center>\n",
    "    <img src=\"/Example_Image.jpg\" width=\"25%\"/>\n",
    "</center></div>\n",
    "\n",
    "### Further help\n",
    "For further guidance on writing Jupter Notebooks refer to [this guide](https://jupyter-notebook.readthedocs.io/en/stable/examples/Notebook/Working%20With%20Markdown%20Cells.html) or [this summary](https://www.ibm.com/docs/en/watson-studio-local/1.2.3?topic=notebooks-markdown-jupyter-cheatsheet).\n",
    "\n",
    "\n",
    "## Adding Python code to Jupyter Notebooks\n",
    "To add Python code to Jupyter notebooks we define a new *code block*. This block behaves like a typical Python interpreter, allowing us to import Python libraries, write function, or define variables. An example block of code is shown below."
   ]
  },
  {
   "cell_type": "code",
   "execution_count": 2,
   "id": "da3e3676-cce8-4f13-a7eb-3de2529f771a",
   "metadata": {},
   "outputs": [
    {
     "name": "stdout",
     "output_type": "stream",
     "text": [
      "The first ten output values are: [ 0  1  4  9 16 25 36 49 64 81]\n"
     ]
    }
   ],
   "source": [
    "import numpy as np\n",
    "import matplotlib.pyplot as plt\n",
    "\n",
    "def example_function(input_data):\n",
    "    output_data = input_data**2\n",
    "    return output_data\n",
    "\n",
    "dat = np.arange(100)\n",
    "output_dat = example_function(dat)\n",
    "print('The first ten output values are: '+str(output_dat[:10]))"
   ]
  },
  {
   "cell_type": "markdown",
   "id": "2c3dfdb6-62c7-4b63-a925-456937b62472",
   "metadata": {},
   "source": [
    "Any variables or functions we have previously defined in carry over to future code blocks, as shown below."
   ]
  },
  {
   "cell_type": "code",
   "execution_count": 3,
   "id": "87b1ea54-92d4-4f1d-9fb7-b0cb6c684808",
   "metadata": {},
   "outputs": [
    {
     "name": "stdout",
     "output_type": "stream",
     "text": [
      "The first ten output values are still: [ 0  1  4  9 16 25 36 49 64 81]\n"
     ]
    }
   ],
   "source": [
    "print('The first ten output values are still: '+str(output_dat[:10]))"
   ]
  },
  {
   "cell_type": "markdown",
   "id": "0e6d4e09-19a7-4b11-9bf5-3d90b96a6470",
   "metadata": {},
   "source": [
    "We can plot figures inline to help demonstrate relationships between variables."
   ]
  },
  {
   "cell_type": "code",
   "execution_count": 4,
   "id": "e7863aef-95aa-4763-a3a2-bd646a292e1c",
   "metadata": {},
   "outputs": [
    {
     "data": {
      "image/png": "[encoded data removed]",
      "text/plain": [
       "<Figure size 1080x216 with 1 Axes>"
      ]
     },
     "metadata": {
      "needs_background": "light"
     },
     "output_type": "display_data"
    }
   ],
   "source": [
    "fg,ax = plt.subplots(figsize=(15,3))\n",
    "ax.plot(dat,output_dat,'k.',label='Example function output')\n",
    "ax.set_ylabel('Output data')\n",
    "ax.set_xlabel('Input data')\n",
    "ax.legend(loc=4)\n",
    "fg.tight_layout()"
   ]
  }
 ],
 "metadata": {
  "kernelspec": {
   "display_name": "Python 3 (ipykernel)",
   "language": "python",
   "name": "python3"
  },
  "language_info": {
   "codemirror_mode": {
    "name": "ipython",
    "version": 3
   },
   "file_extension": ".py",
   "mimetype": "text/x-python",
   "name": "python",
   "nbconvert_exporter": "python",
   "pygments_lexer": "ipython3",
   "version": "3.8.13"
  }
 },
 "nbformat": 4,
 "nbformat_minor": 5
}
