{
 "cells": [
  {
   "cell_type": "markdown",
   "id": "56b31666-8c07-49f6-94dd-d2f54745b470",
   "metadata": {},
   "source": [
    "# Example MATLAB Notebook\n",
    "\n",
    "**This notebook shows the potential of Jupyer Labs for hosting the EDACAB hackathon using MATLAB.**\n",
    "\n",
    "This project is brought to you through collaboration between the University of Edinburgh & Chongqing University.\n",
    "\n",
    "\n",
    "<div>\n",
    "<img src=\"https://upload.wikimedia.org/wikipedia/en/thumb/7/7a/University_of_Edinburgh_ceremonial_roundel.svg/1200px-University_of_Edinburgh_ceremonial_roundel.svg.png\" width=\"100\"/>\n",
    "\n",
    "<img src=\"https://upload.wikimedia.org/wikipedia/en/a/af/Chongqing_University_Logo.png\" width=\"100\"/>\n",
    "</div>\n"
   ]
  },
  {
   "cell_type": "code",
   "execution_count": null,
   "id": "d7f5efcf-0a05-4956-b87b-c08259f88df9",
   "metadata": {},
   "outputs": [],
   "source": []
  }
 ],
 "metadata": {
  "kernelspec": {
   "display_name": "Python 3 (ipykernel)",
   "language": "python",
   "name": "python3"
  },
  "language_info": {
   "codemirror_mode": {
    "name": "ipython",
    "version": 3
   },
   "file_extension": ".py",
   "mimetype": "text/x-python",
   "name": "python",
   "nbconvert_exporter": "python",
   "pygments_lexer": "ipython3",
   "version": "3.8.13"
  }
 },
 "nbformat": 4,
 "nbformat_minor": 5
}
